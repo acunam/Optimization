{
 "cells": [
  {
   "cell_type": "code",
   "execution_count": null,
   "id": "fc156d0c-9136-4731-877d-e69e774f8fe6",
   "metadata": {},
   "outputs": [],
   "source": [
    "from pulp import *\n",
    "import numpy as np\n",
    "import seaborn as sns\n",
    "from matplotlib import pyplot as plt"
   ]
  },
  {
   "cell_type": "code",
   "execution_count": null,
   "id": "275d3f8e-8528-4e3b-a06e-b703dc76b27f",
   "metadata": {},
   "outputs": [],
   "source": [
    "#Initialize class\n",
    "model = LpProblem(\"MaximiseBeaverCreekPottery\", LpMaximize)"
   ]
  },
  {
   "cell_type": "code",
   "execution_count": null,
   "id": "07adb0e2-16f8-4062-b927-d6919c8a9b24",
   "metadata": {},
   "outputs": [],
   "source": [
    "#Define Decision Variables\n",
    "x1 = LpVariable('x1', lowBound=0, cat='Continuous')\n",
    "x2 = LpVariable('x2', lowBound=0, cat='Continuous')"
   ]
  },
  {
   "cell_type": "code",
   "execution_count": null,
   "id": "bf672f4e-8006-4ba8-a1bc-76e4824225a4",
   "metadata": {},
   "outputs": [],
   "source": [
    "#Define Objective function\n",
    "model += 40*x1 + 50*x2"
   ]
  },
  {
   "cell_type": "code",
   "execution_count": null,
   "id": "ef0788bc-b9fc-4823-b1da-f84d0488a395",
   "metadata": {},
   "outputs": [],
   "source": [
    "#Define Constraints\n",
    "model += 1*x1 + 2*x2 <= 40, \"c1\"\n",
    "model += 4*x1 + 3*x2 <= 120, \"c2\""
   ]
  },
  {
   "cell_type": "code",
   "execution_count": null,
   "id": "bac7da04-63ae-44bd-80c0-23b69f7dc8a5",
   "metadata": {},
   "outputs": [],
   "source": [
    "#solve Model\n",
    "model.solve()"
   ]
  },
  {
   "cell_type": "code",
   "execution_count": null,
   "id": "d2498cbd-8c64-4f7a-9279-24cfc23a9275",
   "metadata": {},
   "outputs": [],
   "source": [
    "#status of the solution\n",
    "# =============================================================================\n",
    "print(\"Model status:\", LpStatus[model.status])\n",
    "# \n",
    "# \n",
    "print(\"Produce {} Bowls\".format(x1.varValue))\n",
    "print(\"Produce {} Mugs\".format(x2.varValue))\n",
    "# \n",
    "# \n",
    "print(\"The optimal solution is {}\".format(value(model.objective)))\n",
    "# ============================================================================="
   ]
  },
  {
   "cell_type": "code",
   "execution_count": null,
   "id": "cb368b53-fc8e-4937-a139-2429791f5ea9",
   "metadata": {},
   "outputs": [],
   "source": [
    "#Shadow prices and slack variables\n",
    "print(\"\\nSensitivity Analysis\\nConstraint\\t\\t\\t\\t\\tShadow Price\\tSlack\")\n",
    "for name, c in list(model.constraints.items()):\n",
    "    print(name, \":\", c, \"\\t\\t\\t\\t\", c.pi, \"\\t\\t\", c.slack)\n",
    "    \n",
    "\n",
    "for v in model.variables():\n",
    "     print(v.name, \"=\", v.varValue, \"\\tReduced Cost =\", v.dj)\n"
   ]
  },
  {
   "cell_type": "code",
   "execution_count": null,
   "id": "960a7b67-bbf0-4875-a6f3-65841557d9b8",
   "metadata": {},
   "outputs": [],
   "source": [
    "colors = sns.palplot(sns.color_palette('hls', ))\n",
    "sns.set()\n",
    "sns.set(style='white')\n",
    "sns.despine()\n",
    "sns.set_context('notebook')\n",
    "\n",
    "fig, ax = plt.subplots(figsize=(6,6))\n",
    "x1 = np.linspace(0,60)\n",
    "\n",
    "plt.plot(x1,(40-x1)/2, lw=3, label='Constraint 1')\n",
    "plt.plot(x1,(120-4*x1)/3, lw=3, label='Constraint 2')\n",
    "\n",
    "plt.plot(x1, (1360-40*x1)/50, color='magenta', linestyle='dashed', lw=4, label='$Z=1360$')\n",
    "\n",
    "\n",
    "plt.xlabel('x1', fontsize=16)\n",
    "plt.ylabel('x2', fontsize=16)\n",
    "plt.xlim(-0.5, 60)\n",
    "plt.ylim(-0.5, 60)\n",
    "plt.legend(fontsize=12)\n",
    "plt.show()"
   ]
  }
 ],
 "metadata": {
  "kernelspec": {
   "display_name": "pulp-env",
   "language": "python",
   "name": "pulp"
  },
  "language_info": {
   "codemirror_mode": {
    "name": "ipython",
    "version": 3
   },
   "file_extension": ".py",
   "mimetype": "text/x-python",
   "name": "python",
   "nbconvert_exporter": "python",
   "pygments_lexer": "ipython3",
   "version": "3.13.5"
  }
 },
 "nbformat": 4,
 "nbformat_minor": 5
}
