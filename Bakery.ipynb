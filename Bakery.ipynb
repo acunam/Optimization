{
 "cells": [
  {
   "cell_type": "code",
   "execution_count": null,
   "id": "8e6f58d6-7423-46b3-b3be-c2bc6702fef0",
   "metadata": {},
   "outputs": [],
   "source": [
    "from pulp import *\n",
    "import numpy as np"
   ]
  },
  {
   "cell_type": "code",
   "execution_count": null,
   "id": "ca259c25-bec0-4af7-9572-549e84ae63dd",
   "metadata": {},
   "outputs": [],
   "source": [
    "#Initialize class\n",
    "model = LpProblem(\"MaximiseBakeryProfits\",LpMaximize)"
   ]
  },
  {
   "cell_type": "code",
   "execution_count": null,
   "id": "305d368c-32b5-4491-bbbf-d3817816c412",
   "metadata": {},
   "outputs": [],
   "source": [
    "#Define Decision Variables\n",
    "A = LpVariable('A', lowBound=0, cat='Continuous')\n",
    "\n",
    "B = LpVariable('B', lowBound=0, cat='Continuous')"
   ]
  },
  {
   "cell_type": "code",
   "execution_count": null,
   "id": "15547ff4-9365-4e2e-93c7-67b06d5e823b",
   "metadata": {},
   "outputs": [],
   "source": [
    "#Define Objective function\n",
    "model += 20*A + 40*B"
   ]
  },
  {
   "cell_type": "code",
   "execution_count": null,
   "id": "772e612a-685b-4073-ab76-839bffce7d28",
   "metadata": {},
   "outputs": [],
   "source": [
    "#Define Constraints\n",
    "model += 0.5*A + 1*B <= 30\n",
    "model += 1*A + 2.5*B <= 60\n",
    "model += 1*A + 2*B <= 22"
   ]
  },
  {
   "cell_type": "code",
   "execution_count": null,
   "id": "4f7033df-de7e-4ea2-9c7a-02d0eed5e622",
   "metadata": {},
   "outputs": [],
   "source": [
    "#solve Model\n",
    "model.solve()"
   ]
  },
  {
   "cell_type": "code",
   "execution_count": null,
   "id": "2dbcb465-f911-441e-ba7a-f374f2f92df6",
   "metadata": {},
   "outputs": [],
   "source": [
    "#status of the solution\n",
    "print(\"Model status:\", LpStatus[model.status])"
   ]
  },
  {
   "cell_type": "code",
   "execution_count": null,
   "id": "6a471dd3-a75f-4f85-bd31-961aa2eb15f3",
   "metadata": {},
   "outputs": [],
   "source": [
    "print(\"Produce {} Cake A\".format(A.varValue))\n",
    "print(\"Produce {} Cake B\".format(B.varValue))"
   ]
  },
  {
   "cell_type": "code",
   "execution_count": null,
   "id": "f3d493ef-0995-45a9-a7f1-e084a1e166c9",
   "metadata": {},
   "outputs": [],
   "source": [
    "print(value(model.objective))"
   ]
  },
  {
   "cell_type": "code",
   "execution_count": null,
   "id": "d69eecce-3b5f-488f-a2a1-b919ce5b8a44",
   "metadata": {},
   "outputs": [],
   "source": [
    "#Shadow prices and slack variables\n",
    "print(\"\\nSensitivity Analysis\\nConstraint\\t\\t\\t\\t\\tShadow Price\\tSlack\")\n",
    "for name, c in list(model.constraints.items()):\n",
    "    print(name, \":\", c, \"\\t\\t\\t\\t\", c.pi, \"\\t\\t\", c.slack)\n",
    "    \n",
    "\n",
    "for v in model.variables():\n",
    "     print(v.name, \"=\", v.varValue, \"\\tReduced Cost =\", v.dj)"
   ]
  },
  {
   "cell_type": "code",
   "execution_count": null,
   "id": "ba7994fb-6709-4b02-bb37-1f9b5ee531ab",
   "metadata": {},
   "outputs": [],
   "source": []
  }
 ],
 "metadata": {
  "kernelspec": {
   "display_name": "pulp-env",
   "language": "python",
   "name": "pulp"
  },
  "language_info": {
   "codemirror_mode": {
    "name": "ipython",
    "version": 3
   },
   "file_extension": ".py",
   "mimetype": "text/x-python",
   "name": "python",
   "nbconvert_exporter": "python",
   "pygments_lexer": "ipython3",
   "version": "3.13.5"
  }
 },
 "nbformat": 4,
 "nbformat_minor": 5
}
