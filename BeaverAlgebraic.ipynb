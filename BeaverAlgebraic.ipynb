{
 "cells": [
  {
   "cell_type": "code",
   "execution_count": null,
   "id": "6248aadb-31bc-432c-ac99-f3f6a8db99b9",
   "metadata": {},
   "outputs": [],
   "source": [
    "from pulp import *\n",
    "import numpy as np\n",
    "import seaborn as sns\n",
    "from matplotlib import pyplot as plt"
   ]
  },
  {
   "cell_type": "code",
   "execution_count": null,
   "id": "5d570cea-cb91-47ee-943b-148b37bec192",
   "metadata": {},
   "outputs": [],
   "source": [
    "#Initialize class\n",
    "model = LpProblem(\"MaximiseBeaverCreekPottery\", LpMaximize)"
   ]
  },
  {
   "cell_type": "code",
   "execution_count": null,
   "id": "6d61a476-7a56-4733-9fc3-152a84f350f9",
   "metadata": {},
   "outputs": [],
   "source": [
    "#Create indices:\n",
    "products = ['Bowls', 'Mugs']\n",
    "resources = ['Labor', 'Clay'] "
   ]
  },
  {
   "cell_type": "code",
   "execution_count": null,
   "id": "ff3d3465-54a5-41c4-a11a-624ee8f37f4e",
   "metadata": {},
   "outputs": [],
   "source": [
    "#Define Parameters of the model\n",
    "\n",
    "# Profit bowls and mugs\"\n",
    "\n",
    "profit = {'Bowls':40, 'Mugs':50}\n",
    "\n",
    "use_resources = {('Bowls','Labor'):1, ('Bowls','Clay'):4, ('Mugs','Labor'):2, ('Mugs','Clay'):3}\n",
    "total_resources = {'Labor': 40, 'Clay':120}"
   ]
  },
  {
   "cell_type": "code",
   "execution_count": null,
   "id": "b1869caf-8a94-4783-8486-a921c4b68e33",
   "metadata": {},
   "outputs": [],
   "source": [
    "#Define Decision Variables\n",
    "x = LpVariable.dicts('x', [i for i in products], lowBound=0, cat='Continuous')"
   ]
  },
  {
   "cell_type": "code",
   "execution_count": null,
   "id": "bd71f9cd-f7e5-481f-bc0c-0f611c8c5ffc",
   "metadata": {},
   "outputs": [],
   "source": [
    "#Define Objective function\n",
    "model += lpSum(profit[i]*x[i] for i in products)     "
   ]
  },
  {
   "cell_type": "code",
   "execution_count": null,
   "id": "e7461c95-8471-403e-bfef-ca02838a8838",
   "metadata": {},
   "outputs": [],
   "source": [
    "#Define Constraints\n",
    "for j in resources:\n",
    "    model += lpSum(use_resources[(i,j)]*x[i] for i in products) <= total_resources[j]\n"
   ]
  },
  {
   "cell_type": "code",
   "execution_count": null,
   "id": "46bef970-73bf-463c-af10-aeab5c5677df",
   "metadata": {},
   "outputs": [],
   "source": [
    "#solve Model\n",
    "model.solve()"
   ]
  },
  {
   "cell_type": "code",
   "execution_count": null,
   "id": "74983ff9-0c6b-41fc-be71-5968cf94f3d7",
   "metadata": {},
   "outputs": [],
   "source": [
    "#status of the solution\n",
    "\n",
    "print(\"Model status:\", LpStatus[model.status])"
   ]
  },
  {
   "cell_type": "code",
   "execution_count": null,
   "id": "dc7ba322-26b3-4012-9948-7fd8a055661b",
   "metadata": {},
   "outputs": [],
   "source": [
    "#Solution - Objective function \n",
    "print(\"The optimal solution is {}\".format(value(model.objective)))"
   ]
  },
  {
   "cell_type": "code",
   "execution_count": null,
   "id": "477e7b8c-0c64-44e7-b29d-1466090d58fd",
   "metadata": {},
   "outputs": [],
   "source": [
    "#Shadow prices and slack variables\n",
    "print(\"\\nSensitivity Analysis\\nConstraint\\t\\t\\t\\t\\tShadow Price\\tSlack\")\n",
    "for name, c in list(model.constraints.items()):\n",
    "    print(name, \":\", c, \"\\t\\t\", c.pi, \"\\t\\t\\t\", c.slack)"
   ]
  },
  {
   "cell_type": "code",
   "execution_count": null,
   "id": "516715d1-6ac5-4aaf-8c54-a596710587dc",
   "metadata": {},
   "outputs": [],
   "source": [
    "#solution - Value and reduced costs of variables\n",
    "for v in model.variables():\n",
    "    print(v.name, \"=\", v.varValue, \"\\tReduced Cost =\", v.dj)"
   ]
  },
  {
   "cell_type": "code",
   "execution_count": null,
   "id": "0b9c412d-e63c-451d-bc36-04bd59f7368a",
   "metadata": {},
   "outputs": [],
   "source": []
  }
 ],
 "metadata": {
  "kernelspec": {
   "display_name": "pulp-env",
   "language": "python",
   "name": "pulp"
  },
  "language_info": {
   "codemirror_mode": {
    "name": "ipython",
    "version": 3
   },
   "file_extension": ".py",
   "mimetype": "text/x-python",
   "name": "python",
   "nbconvert_exporter": "python",
   "pygments_lexer": "ipython3",
   "version": "3.13.5"
  }
 },
 "nbformat": 4,
 "nbformat_minor": 5
}
