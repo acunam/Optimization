{
 "cells": [
  {
   "cell_type": "code",
   "execution_count": 1,
   "id": "2951bc58-fb8a-492e-95b2-ee63ff1d1591",
   "metadata": {},
   "outputs": [],
   "source": [
    "from pulp import *\n",
    "import numpy as np\n",
    "import seaborn as sns\n",
    "from matplotlib import pyplot as plt\n",
    "import pandas as pd"
   ]
  },
  {
   "cell_type": "code",
   "execution_count": 4,
   "id": "06d8872a-91c8-47eb-80dd-db54c9b2e8df",
   "metadata": {},
   "outputs": [],
   "source": [
    "#Read data from Excel\n",
    "excel_file = pd.ExcelFile(\"DataModel.xlsx\")\n",
    "df_products = pd.read_excel(excel_file, \"Products\")\n",
    "df_resources = pd.read_excel(excel_file, \"Resources\")\n",
    "df_useResources = pd.read_excel(excel_file, \"UseResources\")"
   ]
  },
  {
   "cell_type": "code",
   "execution_count": 5,
   "id": "845992ed-9f9f-4916-9036-19a121d64675",
   "metadata": {},
   "outputs": [],
   "source": [
    "#Initialize class\n",
    "model = LpProblem(\"MaximiseBeaverCreekPottery\", LpMaximize)"
   ]
  },
  {
   "cell_type": "code",
   "execution_count": 6,
   "id": "df9f0175-dfd4-4c1b-a0a7-6b502d76ba63",
   "metadata": {},
   "outputs": [
    {
     "name": "stdout",
     "output_type": "stream",
     "text": [
      "['Bowls', 'Mugs']\n"
     ]
    }
   ],
   "source": [
    "#Create indices:\n",
    "#products = ['Bowls', 'Mugs']\n",
    "products = [row['Products'] for k, row in df_products.iterrows()]\n",
    "print(products)"
   ]
  },
  {
   "cell_type": "code",
   "execution_count": 7,
   "id": "f0f7058e-0436-4c49-bc8a-b7628e956d39",
   "metadata": {},
   "outputs": [
    {
     "name": "stdout",
     "output_type": "stream",
     "text": [
      "['Labor', 'Clay']\n"
     ]
    }
   ],
   "source": [
    "#resources = ['Labor', 'Clay'] \n",
    "resources = [row['Resources'] for k, row in df_resources.iterrows()]\n",
    "print(resources)"
   ]
  },
  {
   "cell_type": "code",
   "execution_count": 8,
   "id": "e3a37135-8176-4355-9835-f97b617b0660",
   "metadata": {},
   "outputs": [
    {
     "name": "stdout",
     "output_type": "stream",
     "text": [
      "{'Bowls': 40, 'Mugs': 50}\n"
     ]
    }
   ],
   "source": [
    "#Define Parameters of the model\n",
    "\n",
    "# Profit bowls and mugs\"\n",
    " \n",
    "#profit = {'Bowls':40, 'Mugs':50}\n",
    "profit = {products[k]: row['Profit'] for k , row in df_products.iterrows()}\n",
    "print(profit)"
   ]
  },
  {
   "cell_type": "code",
   "execution_count": 9,
   "id": "b167bab0-5530-481f-b13e-deba68b8b8fd",
   "metadata": {},
   "outputs": [
    {
     "name": "stdout",
     "output_type": "stream",
     "text": [
      "{('Bowls', 'Labor'): 1, ('Bowls', 'Clay'): 4, ('Mugs', 'Labor'): 2, ('Mugs', 'Clay'): 3}\n"
     ]
    }
   ],
   "source": [
    "product_resources = [(i,j) for i in products for j in resources]\n",
    "use_resources = {product_resources[k]: row['Use'] for k , row in df_useResources.iterrows()}\n",
    "print(use_resources)"
   ]
  },
  {
   "cell_type": "code",
   "execution_count": 10,
   "id": "b2364478-ef1c-4782-b362-e7e54a7f2e23",
   "metadata": {},
   "outputs": [
    {
     "name": "stdout",
     "output_type": "stream",
     "text": [
      "{'Labor': 40, 'Clay': 120}\n"
     ]
    }
   ],
   "source": [
    "total_resources = {resources[k]: row['Total'] for k , row in df_resources.iterrows()}\n",
    "print(total_resources)"
   ]
  },
  {
   "cell_type": "code",
   "execution_count": 11,
   "id": "f9c96d73-f918-4dc8-a4ef-4ab12e9f02f3",
   "metadata": {},
   "outputs": [],
   "source": [
    "#Define Decision Variables\n",
    "#=============================================================================\n",
    "x = LpVariable.dicts('x', [i for i in products], lowBound=0, cat='Continuous')\n",
    "\n",
    "#Define Objective function\n",
    "model += lpSum(profit[i]*x[i] for i in products)             \n",
    "\n",
    "#Define Constraints\n",
    "for j in resources:\n",
    "    model += lpSum(use_resources[(i,j)]*x[i] for i in products) <= total_resources[j]\n"
   ]
  },
  {
   "cell_type": "code",
   "execution_count": 12,
   "id": "cfb85270-c665-4792-bf79-315e1456a7bc",
   "metadata": {},
   "outputs": [
    {
     "data": {
      "text/plain": [
       "1"
      ]
     },
     "execution_count": 12,
     "metadata": {},
     "output_type": "execute_result"
    }
   ],
   "source": [
    "#solve Model\n",
    "model.solve()"
   ]
  },
  {
   "cell_type": "code",
   "execution_count": 14,
   "id": "53302b8e-90ad-413f-9f6d-9977ac901ca6",
   "metadata": {},
   "outputs": [
    {
     "name": "stdout",
     "output_type": "stream",
     "text": [
      "Model status: Optimal\n",
      "The optimal solution is 1360.0\n",
      "\n",
      "Sensitivity Analysis\n",
      "Constraint\t\t\t\t\tShadow Price\tSlack\n",
      "_C1 : x_Bowls + 2*x_Mugs <= 40.0 \t\t 16.0 \t\t\t -0.0\n",
      "_C2 : 4*x_Bowls + 3*x_Mugs <= 120.0 \t\t 6.0 \t\t\t -0.0\n",
      "x_Bowls = 24.0 \tReduced Cost = -0.0\n",
      "x_Mugs = 8.0 \tReduced Cost = -0.0\n"
     ]
    }
   ],
   "source": [
    "#status of the solution\n",
    "\n",
    "print(\"Model status:\", LpStatus[model.status])\n",
    "\n",
    "#Solution - Objective function \n",
    "print(\"The optimal solution is {}\".format(value(model.objective)))\n",
    "\n",
    "#Shadow prices and slack variables\n",
    "print(\"\\nSensitivity Analysis\\nConstraint\\t\\t\\t\\t\\tShadow Price\\tSlack\")\n",
    "for name, c in list(model.constraints.items()):\n",
    "    print(name, \":\", c, \"\\t\\t\", c.pi, \"\\t\\t\\t\", c.slack)\n",
    "\n",
    "#solution - Value and reduced costs of variables\n",
    "for v in model.variables():\n",
    "    print(v.name, \"=\", v.varValue, \"\\tReduced Cost =\", v.dj)\n",
    "    \n"
   ]
  },
  {
   "cell_type": "code",
   "execution_count": null,
   "id": "e6b51c44-f4b3-4531-86ca-692024301922",
   "metadata": {},
   "outputs": [],
   "source": []
  }
 ],
 "metadata": {
  "kernelspec": {
   "display_name": "pulp-env",
   "language": "python",
   "name": "pulp"
  },
  "language_info": {
   "codemirror_mode": {
    "name": "ipython",
    "version": 3
   },
   "file_extension": ".py",
   "mimetype": "text/x-python",
   "name": "python",
   "nbconvert_exporter": "python",
   "pygments_lexer": "ipython3",
   "version": "3.13.5"
  }
 },
 "nbformat": 4,
 "nbformat_minor": 5
}
